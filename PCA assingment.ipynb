{
 "cells": [
  {
   "cell_type": "code",
   "execution_count": 1,
   "metadata": {},
   "outputs": [],
   "source": [
    "import pandas as pd"
   ]
  },
  {
   "cell_type": "code",
   "execution_count": 2,
   "metadata": {},
   "outputs": [],
   "source": [
    "df=pd.read_csv('Cars_mileage.csv')"
   ]
  },
  {
   "cell_type": "code",
   "execution_count": 3,
   "metadata": {},
   "outputs": [
    {
     "data": {
      "text/html": [
       "<div>\n",
       "<style scoped>\n",
       "    .dataframe tbody tr th:only-of-type {\n",
       "        vertical-align: middle;\n",
       "    }\n",
       "\n",
       "    .dataframe tbody tr th {\n",
       "        vertical-align: top;\n",
       "    }\n",
       "\n",
       "    .dataframe thead th {\n",
       "        text-align: right;\n",
       "    }\n",
       "</style>\n",
       "<table border=\"1\" class=\"dataframe\">\n",
       "  <thead>\n",
       "    <tr style=\"text-align: right;\">\n",
       "      <th></th>\n",
       "      <th>HP</th>\n",
       "      <th>MPG</th>\n",
       "      <th>VOL</th>\n",
       "      <th>SP</th>\n",
       "      <th>WT</th>\n",
       "    </tr>\n",
       "  </thead>\n",
       "  <tbody>\n",
       "    <tr>\n",
       "      <td>0</td>\n",
       "      <td>49</td>\n",
       "      <td>53.700681</td>\n",
       "      <td>89</td>\n",
       "      <td>104.185353</td>\n",
       "      <td>28.762059</td>\n",
       "    </tr>\n",
       "    <tr>\n",
       "      <td>1</td>\n",
       "      <td>55</td>\n",
       "      <td>50.013401</td>\n",
       "      <td>92</td>\n",
       "      <td>105.461264</td>\n",
       "      <td>30.466833</td>\n",
       "    </tr>\n",
       "    <tr>\n",
       "      <td>2</td>\n",
       "      <td>55</td>\n",
       "      <td>50.013401</td>\n",
       "      <td>92</td>\n",
       "      <td>105.461264</td>\n",
       "      <td>30.193597</td>\n",
       "    </tr>\n",
       "    <tr>\n",
       "      <td>3</td>\n",
       "      <td>70</td>\n",
       "      <td>45.696322</td>\n",
       "      <td>92</td>\n",
       "      <td>113.461264</td>\n",
       "      <td>30.632114</td>\n",
       "    </tr>\n",
       "    <tr>\n",
       "      <td>4</td>\n",
       "      <td>53</td>\n",
       "      <td>50.504232</td>\n",
       "      <td>92</td>\n",
       "      <td>104.461264</td>\n",
       "      <td>29.889149</td>\n",
       "    </tr>\n",
       "  </tbody>\n",
       "</table>\n",
       "</div>"
      ],
      "text/plain": [
       "   HP        MPG  VOL          SP         WT\n",
       "0  49  53.700681   89  104.185353  28.762059\n",
       "1  55  50.013401   92  105.461264  30.466833\n",
       "2  55  50.013401   92  105.461264  30.193597\n",
       "3  70  45.696322   92  113.461264  30.632114\n",
       "4  53  50.504232   92  104.461264  29.889149"
      ]
     },
     "execution_count": 3,
     "metadata": {},
     "output_type": "execute_result"
    }
   ],
   "source": [
    "df.head()"
   ]
  },
  {
   "cell_type": "code",
   "execution_count": 4,
   "metadata": {},
   "outputs": [
    {
     "data": {
      "text/plain": [
       "(81, 5)"
      ]
     },
     "execution_count": 4,
     "metadata": {},
     "output_type": "execute_result"
    }
   ],
   "source": [
    "df.shape"
   ]
  },
  {
   "cell_type": "code",
   "execution_count": 5,
   "metadata": {},
   "outputs": [],
   "source": [
    "from sklearn.preprocessing import StandardScaler"
   ]
  },
  {
   "cell_type": "code",
   "execution_count": 6,
   "metadata": {},
   "outputs": [],
   "source": [
    "scaler=StandardScaler()"
   ]
  },
  {
   "cell_type": "code",
   "execution_count": 7,
   "metadata": {},
   "outputs": [
    {
     "data": {
      "text/plain": [
       "StandardScaler(copy=True, with_mean=True, with_std=True)"
      ]
     },
     "execution_count": 7,
     "metadata": {},
     "output_type": "execute_result"
    }
   ],
   "source": [
    "scaler.fit(df)"
   ]
  },
  {
   "cell_type": "code",
   "execution_count": 8,
   "metadata": {},
   "outputs": [],
   "source": [
    "scaled_data=scaler.transform(df)"
   ]
  },
  {
   "cell_type": "code",
   "execution_count": 9,
   "metadata": {},
   "outputs": [
    {
     "data": {
      "text/plain": [
       "array([[-1.20629511,  2.12438703, -0.44061061, -1.23140253, -0.49023816],\n",
       "       [-1.1005866 ,  1.7180708 , -0.30525236, -1.14087145, -0.26129934],\n",
       "       [-1.1005866 ,  1.7180708 , -0.30525236, -1.14087145, -0.29799301],\n",
       "       [-0.83631531,  1.24235454, -0.30525236, -0.57323872, -0.2391033 ],\n",
       "       [-1.13582277,  1.77215741, -0.30525236, -1.21182554, -0.33887816],\n",
       "       [-0.83631531,  1.24235454, -0.44061061, -0.59281571, -0.37881419],\n",
       "       [-1.1005866 ,  1.7180708 , -0.30525236, -1.14087145, -0.28256505],\n",
       "       [-0.97726   ,  1.354778  , -2.20026792, -1.34399532, -2.22453536],\n",
       "       [-0.97726   ,  1.354778  , -2.20026792, -1.34399532, -2.15581433],\n",
       "       [-0.66013445,  0.86799855, -0.21501352, -0.4182792 , -0.20042158],\n",
       "       [-0.78346105,  1.12736839, -0.44061061, -0.73472389, -0.40949027],\n",
       "       [-0.44871742,  0.54347892, -2.20026792, -0.27968395, -2.23718888],\n",
       "       [-0.44871742,  0.54347892,  0.01058357,  0.04007367,  0.05385348],\n",
       "       [-0.78346105,  1.12736839, -0.44061061, -0.73472389, -0.40746314],\n",
       "       [-0.90678765,  1.24660479, -0.44061061, -0.94758617, -0.41164734],\n",
       "       [-0.78346105,  1.12736839, -0.44061061, -0.73472389, -0.37710085],\n",
       "       [-0.69537062,  0.92208516, -0.35037178, -0.50881029, -0.38633253],\n",
       "       [-0.44871742,  0.54347892, -2.20026792, -0.27968395, -2.17802125],\n",
       "       [-0.69537062,  0.92208516, -0.35037178, -0.50881029, -0.33347355],\n",
       "       [-0.48395359,  0.49364256,  0.19106124, -0.21764002,  0.14831256],\n",
       "       [-0.44871742,  0.43955596,  0.01058357, -0.1727886 , -0.01180799],\n",
       "       [-0.76584297,  0.9263354 ,  0.37153891, -0.75917009,  0.33514564],\n",
       "       [-0.39586316,  0.42849277,  0.1008224 , -0.08878318,  0.03535268],\n",
       "       [-0.64251637,  0.66696556, -0.12477469, -0.54713605, -0.07727938],\n",
       "       [-0.39586316,  0.42849277, -0.44061061, -0.16709116, -0.48759676],\n",
       "       [-0.44871742,  0.43955596, -2.20026792, -0.49254623, -2.19829229],\n",
       "       [-0.44871742,  0.43955596,  0.82273309, -0.05532661,  0.75878723],\n",
       "       [-0.44871742,  0.43955596,  0.01058357, -0.1727886 ,  0.05673768],\n",
       "       [-1.15344086,  0.99696475,  0.23618066, -1.55924209,  0.27807071],\n",
       "       [-0.25491848,  0.10822339,  0.37153891,  0.02132491,  0.42124726],\n",
       "       [-0.58966211,  0.55197941,  0.68737484, -0.57158225,  0.62174504],\n",
       "       [-0.58966211,  0.55197941,  0.1008224 , -0.65641591,  0.11035971],\n",
       "       [-0.27253656,  0.20533341, -0.07965527, -0.11488584, -0.13866213],\n",
       "       [-0.27253656,  0.20533341,  0.64225542, -0.01047519,  0.69304639],\n",
       "       [-0.64251637,  0.5630426 ,  0.1008224 , -0.72737   ,  0.03881962],\n",
       "       [-0.48395359,  0.3897196 , -0.03453585, -0.46313063, -0.06732815],\n",
       "       [-0.48395359,  0.3897196 , -0.48573003, -0.52838729, -0.49132041],\n",
       "       [-0.27253656, -0.038723  , -0.57596887, -0.32857635, -0.60870364],\n",
       "       [-0.27253656, -0.038723  , -0.57596887, -0.32857635, -0.50790524],\n",
       "       [ 0.22076984, -0.37553513, -0.30525236,  0.49107265, -0.30848967],\n",
       "       [-0.39586316,  0.0805134 ,  0.64225542, -0.36524564,  0.66877093],\n",
       "       [-0.39586316,  0.0805134 ,  0.32641949, -0.4109253 ,  0.35112169],\n",
       "       [-0.27253656, -0.038723  , -0.30525236, -0.28942235, -0.253162  ],\n",
       "       [-0.39586316,  0.0805134 , -0.48573003, -0.52838729, -0.54638368],\n",
       "       [-0.43109934,  0.1346    ,  0.14594182, -0.50798206,  0.08944633],\n",
       "       [-0.30777273,  0.01536361,  0.01058357, -0.31469678,  0.02811271],\n",
       "       [-0.30777273,  0.01536361,  0.55201658, -0.23638879,  0.54872568],\n",
       "       [-0.34300891,  0.06945021,  0.19106124, -0.35954821,  0.20110061],\n",
       "       [ 0.22076984, -0.37553513, -0.57596887,  0.45191866, -0.58309656],\n",
       "       [-0.04350145, -0.52806514,  0.1008224 , -0.23069136,  0.14045608],\n",
       "       [-0.04350145, -0.52806514,  0.1008224 , -0.23069136,  0.10761914],\n",
       "       [-0.04350145, -0.52806514,  0.1008224 , -0.23069136,  0.13753382],\n",
       "       [-0.04350145, -0.52806514,  1.13856902, -0.08060104,  1.07240653],\n",
       "       [ 1.10167413, -1.09474551,  0.64225542,  1.55051482,  0.69941256],\n",
       "       [ 0.74931242, -0.83414636,  0.64225542,  0.98288209,  0.65022074],\n",
       "       [ 0.22076984, -0.72351451,  1.13856902,  0.3451235 ,  1.09804367],\n",
       "       [-0.37824508, -0.36457601, -0.30525236, -0.78610099, -0.30417763],\n",
       "       [-0.04350145, -0.52806514,  0.1008224 , -0.23069136,  0.04323438],\n",
       "       [-0.30777273, -0.47274922, -0.21501352, -0.63114147, -0.24136353],\n",
       "       [-0.30777273, -0.61288266,  0.73249426, -0.4231484 ,  0.70507688],\n",
       "       [ 0.48504113, -0.77883043,  0.55201658,  0.6150603 ,  0.60103751],\n",
       "       [ 0.04458898, -1.08132775,  0.77761368, -0.27471455,  0.73160477],\n",
       "       [ 0.3969507 , -1.20179346,  1.45440495,  0.31984907,  1.47432127],\n",
       "       [ 0.3969507 , -1.20179346,  1.0934496 ,  0.26764375,  1.11600704],\n",
       "       [ 0.57313156, -1.1919596 ,  1.00321077,  0.46745469,  1.0403533 ],\n",
       "       [ 0.83740285,  0.62016359, -2.20026792,  0.35890287, -2.24265139],\n",
       "       [ 0.83740285, -1.24727552,  0.68737484,  0.77654549,  0.74765875],\n",
       "       [ 0.83740285, -1.24727552,  1.27392727,  0.86137914,  1.23030947],\n",
       "       [ 0.83740285, -1.24727552,  1.0934496 ,  0.83527648,  1.08232792],\n",
       "       [ 2.24684972, -1.44887149,  0.597136  ,  2.60830053,  0.63509149],\n",
       "       [ 2.86348272, -1.62465312, -2.20026792,  3.05515833, -2.22785207],\n",
       "       [ 0.78454859, -1.23621234,  1.63488262,  0.84263038,  1.55787152],\n",
       "       [ 0.78454859, -1.23621234,  1.49952437,  0.82305338,  1.4692362 ],\n",
       "       [ 0.3969507 , -1.68990629,  2.76286807,  0.22527702,  2.76444017],\n",
       "       [ 0.3969507 , -1.68990629,  1.36416611,  0.02298138,  1.3706083 ],\n",
       "       [ 1.01358371, -1.72555448,  1.36416611,  0.80347638,  1.39203071],\n",
       "       [ 3.60344233,  0.27305243, -2.20026792,  3.40992879, -2.18623649],\n",
       "       [ 2.12352311, -1.67761447,  0.73249426,  2.06024479,  0.74002517],\n",
       "       [ 2.56397526, -0.04651022, -2.20026792,  2.13275515, -2.23502801],\n",
       "       [ 3.12775401, -1.60754809,  0.91297193,  3.292567  ,  0.94146241],\n",
       "       [ 2.08828694, -2.45962006,  0.37153891,  1.29849856,  0.34057153]])"
      ]
     },
     "execution_count": 9,
     "metadata": {},
     "output_type": "execute_result"
    }
   ],
   "source": [
    "scaled_data"
   ]
  },
  {
   "cell_type": "code",
   "execution_count": 10,
   "metadata": {},
   "outputs": [],
   "source": [
    "from sklearn.decomposition import PCA"
   ]
  },
  {
   "cell_type": "code",
   "execution_count": 11,
   "metadata": {},
   "outputs": [],
   "source": [
    "pca=PCA(n_components=2)"
   ]
  },
  {
   "cell_type": "code",
   "execution_count": 12,
   "metadata": {},
   "outputs": [
    {
     "data": {
      "text/plain": [
       "PCA(copy=True, iterated_power='auto', n_components=2, random_state=None,\n",
       "    svd_solver='auto', tol=0.0, whiten=False)"
      ]
     },
     "execution_count": 12,
     "metadata": {},
     "output_type": "execute_result"
    }
   ],
   "source": [
    "pca.fit(scaled_data)"
   ]
  },
  {
   "cell_type": "code",
   "execution_count": 26,
   "metadata": {},
   "outputs": [],
   "source": [
    "x_pca=pca.transform(scaled_data)\n",
    "\n",
    "principaldf=pd.DataFrame(data=x_pca,columns=['PCA1','PCA2'])"
   ]
  },
  {
   "cell_type": "code",
   "execution_count": 27,
   "metadata": {},
   "outputs": [
    {
     "data": {
      "text/html": [
       "<div>\n",
       "<style scoped>\n",
       "    .dataframe tbody tr th:only-of-type {\n",
       "        vertical-align: middle;\n",
       "    }\n",
       "\n",
       "    .dataframe tbody tr th {\n",
       "        vertical-align: top;\n",
       "    }\n",
       "\n",
       "    .dataframe thead th {\n",
       "        text-align: right;\n",
       "    }\n",
       "</style>\n",
       "<table border=\"1\" class=\"dataframe\">\n",
       "  <thead>\n",
       "    <tr style=\"text-align: right;\">\n",
       "      <th></th>\n",
       "      <th>PCA1</th>\n",
       "      <th>PCA2</th>\n",
       "    </tr>\n",
       "  </thead>\n",
       "  <tbody>\n",
       "    <tr>\n",
       "      <td>0</td>\n",
       "      <td>-2.612343</td>\n",
       "      <td>-0.644779</td>\n",
       "    </tr>\n",
       "    <tr>\n",
       "      <td>1</td>\n",
       "      <td>-2.164822</td>\n",
       "      <td>-0.742867</td>\n",
       "    </tr>\n",
       "    <tr>\n",
       "      <td>2</td>\n",
       "      <td>-2.178864</td>\n",
       "      <td>-0.722544</td>\n",
       "    </tr>\n",
       "    <tr>\n",
       "      <td>3</td>\n",
       "      <td>-1.520455</td>\n",
       "      <td>-0.372359</td>\n",
       "    </tr>\n",
       "    <tr>\n",
       "      <td>4</td>\n",
       "      <td>-2.272112</td>\n",
       "      <td>-0.748503</td>\n",
       "    </tr>\n",
       "    <tr>\n",
       "      <td>...</td>\n",
       "      <td>...</td>\n",
       "      <td>...</td>\n",
       "    </tr>\n",
       "    <tr>\n",
       "      <td>76</td>\n",
       "      <td>1.379692</td>\n",
       "      <td>5.495026</td>\n",
       "    </tr>\n",
       "    <tr>\n",
       "      <td>77</td>\n",
       "      <td>3.377962</td>\n",
       "      <td>1.092242</td>\n",
       "    </tr>\n",
       "    <tr>\n",
       "      <td>78</td>\n",
       "      <td>0.473708</td>\n",
       "      <td>4.521625</td>\n",
       "    </tr>\n",
       "    <tr>\n",
       "      <td>79</td>\n",
       "      <td>4.508973</td>\n",
       "      <td>1.856849</td>\n",
       "    </tr>\n",
       "    <tr>\n",
       "      <td>80</td>\n",
       "      <td>3.142744</td>\n",
       "      <td>1.203343</td>\n",
       "    </tr>\n",
       "  </tbody>\n",
       "</table>\n",
       "<p>81 rows × 2 columns</p>\n",
       "</div>"
      ],
      "text/plain": [
       "        PCA1      PCA2\n",
       "0  -2.612343 -0.644779\n",
       "1  -2.164822 -0.742867\n",
       "2  -2.178864 -0.722544\n",
       "3  -1.520455 -0.372359\n",
       "4  -2.272112 -0.748503\n",
       "..       ...       ...\n",
       "76  1.379692  5.495026\n",
       "77  3.377962  1.092242\n",
       "78  0.473708  4.521625\n",
       "79  4.508973  1.856849\n",
       "80  3.142744  1.203343\n",
       "\n",
       "[81 rows x 2 columns]"
      ]
     },
     "execution_count": 27,
     "metadata": {},
     "output_type": "execute_result"
    }
   ],
   "source": [
    "principaldf\n",
    "\n"
   ]
  },
  {
   "cell_type": "code",
   "execution_count": 29,
   "metadata": {},
   "outputs": [],
   "source": [
    "finaldf=pd.concat([principaldf,df[['MPG']]],axis=1)"
   ]
  },
  {
   "cell_type": "code",
   "execution_count": 30,
   "metadata": {},
   "outputs": [
    {
     "data": {
      "text/html": [
       "<div>\n",
       "<style scoped>\n",
       "    .dataframe tbody tr th:only-of-type {\n",
       "        vertical-align: middle;\n",
       "    }\n",
       "\n",
       "    .dataframe tbody tr th {\n",
       "        vertical-align: top;\n",
       "    }\n",
       "\n",
       "    .dataframe thead th {\n",
       "        text-align: right;\n",
       "    }\n",
       "</style>\n",
       "<table border=\"1\" class=\"dataframe\">\n",
       "  <thead>\n",
       "    <tr style=\"text-align: right;\">\n",
       "      <th></th>\n",
       "      <th>PCA1</th>\n",
       "      <th>PCA2</th>\n",
       "      <th>MPG</th>\n",
       "    </tr>\n",
       "  </thead>\n",
       "  <tbody>\n",
       "    <tr>\n",
       "      <td>0</td>\n",
       "      <td>-2.612343</td>\n",
       "      <td>-0.644779</td>\n",
       "      <td>53.700681</td>\n",
       "    </tr>\n",
       "    <tr>\n",
       "      <td>1</td>\n",
       "      <td>-2.164822</td>\n",
       "      <td>-0.742867</td>\n",
       "      <td>50.013401</td>\n",
       "    </tr>\n",
       "    <tr>\n",
       "      <td>2</td>\n",
       "      <td>-2.178864</td>\n",
       "      <td>-0.722544</td>\n",
       "      <td>50.013401</td>\n",
       "    </tr>\n",
       "    <tr>\n",
       "      <td>3</td>\n",
       "      <td>-1.520455</td>\n",
       "      <td>-0.372359</td>\n",
       "      <td>45.696322</td>\n",
       "    </tr>\n",
       "    <tr>\n",
       "      <td>4</td>\n",
       "      <td>-2.272112</td>\n",
       "      <td>-0.748503</td>\n",
       "      <td>50.504232</td>\n",
       "    </tr>\n",
       "    <tr>\n",
       "      <td>...</td>\n",
       "      <td>...</td>\n",
       "      <td>...</td>\n",
       "      <td>...</td>\n",
       "    </tr>\n",
       "    <tr>\n",
       "      <td>76</td>\n",
       "      <td>1.379692</td>\n",
       "      <td>5.495026</td>\n",
       "      <td>36.900000</td>\n",
       "    </tr>\n",
       "    <tr>\n",
       "      <td>77</td>\n",
       "      <td>3.377962</td>\n",
       "      <td>1.092242</td>\n",
       "      <td>19.197888</td>\n",
       "    </tr>\n",
       "    <tr>\n",
       "      <td>78</td>\n",
       "      <td>0.473708</td>\n",
       "      <td>4.521625</td>\n",
       "      <td>34.000000</td>\n",
       "    </tr>\n",
       "    <tr>\n",
       "      <td>79</td>\n",
       "      <td>4.508973</td>\n",
       "      <td>1.856849</td>\n",
       "      <td>19.833733</td>\n",
       "    </tr>\n",
       "    <tr>\n",
       "      <td>80</td>\n",
       "      <td>3.142744</td>\n",
       "      <td>1.203343</td>\n",
       "      <td>12.101263</td>\n",
       "    </tr>\n",
       "  </tbody>\n",
       "</table>\n",
       "<p>81 rows × 3 columns</p>\n",
       "</div>"
      ],
      "text/plain": [
       "        PCA1      PCA2        MPG\n",
       "0  -2.612343 -0.644779  53.700681\n",
       "1  -2.164822 -0.742867  50.013401\n",
       "2  -2.178864 -0.722544  50.013401\n",
       "3  -1.520455 -0.372359  45.696322\n",
       "4  -2.272112 -0.748503  50.504232\n",
       "..       ...       ...        ...\n",
       "76  1.379692  5.495026  36.900000\n",
       "77  3.377962  1.092242  19.197888\n",
       "78  0.473708  4.521625  34.000000\n",
       "79  4.508973  1.856849  19.833733\n",
       "80  3.142744  1.203343  12.101263\n",
       "\n",
       "[81 rows x 3 columns]"
      ]
     },
     "execution_count": 30,
     "metadata": {},
     "output_type": "execute_result"
    }
   ],
   "source": [
    "finaldf"
   ]
  },
  {
   "cell_type": "code",
   "execution_count": 42,
   "metadata": {},
   "outputs": [],
   "source": [
    "import matplotlib.pyplot as plt"
   ]
  },
  {
   "cell_type": "code",
   "execution_count": 55,
   "metadata": {},
   "outputs": [
    {
     "data": {
      "text/plain": [
       "<function matplotlib.pyplot.show(*args, **kw)>"
      ]
     },
     "execution_count": 55,
     "metadata": {},
     "output_type": "execute_result"
    },
    {
     "data": {
      "text/plain": [
       "<Figure size 576x432 with 0 Axes>"
      ]
     },
     "metadata": {},
     "output_type": "display_data"
    },
    {
     "data": {
      "image/png": "[encoded data removed]",
      "text/plain": [
       "<Figure size 432x288 with 1 Axes>"
      ]
     },
     "metadata": {
      "needs_background": "light"
     },
     "output_type": "display_data"
    }
   ],
   "source": [
    "plt.figure(figsize=(8,6))\n",
    "finaldf.plot(kind='scatter',x='PCA1',y='MPG',)\n",
    "plt.show"
   ]
  },
  {
   "cell_type": "code",
   "execution_count": 56,
   "metadata": {},
   "outputs": [
    {
     "data": {
      "text/plain": [
       "<function matplotlib.pyplot.show(*args, **kw)>"
      ]
     },
     "execution_count": 56,
     "metadata": {},
     "output_type": "execute_result"
    },
    {
     "data": {
      "image/png": "[encoded data removed]",
      "text/plain": [
       "<Figure size 432x288 with 1 Axes>"
      ]
     },
     "metadata": {
      "needs_background": "light"
     },
     "output_type": "display_data"
    }
   ],
   "source": [
    "finaldf.plot(kind='scatter',x='PCA2',y='MPG',)\n",
    "plt.show"
   ]
  },
  {
   "cell_type": "code",
   "execution_count": 57,
   "metadata": {},
   "outputs": [
    {
     "name": "stderr",
     "output_type": "stream",
     "text": [
      "C:\\Users\\dell\\Anaconda3\\lib\\site-packages\\seaborn\\axisgrid.py:2065: UserWarning: The `size` parameter has been renamed to `height`; pleaes update your code.\n",
      "  warnings.warn(msg, UserWarning)\n"
     ]
    },
    {
     "data": {
      "text/plain": [
       "<function matplotlib.pyplot.show(*args, **kw)>"
      ]
     },
     "execution_count": 57,
     "metadata": {},
     "output_type": "execute_result"
    },
    {
     "data": {
      "image/png": "[encoded data removed]",
      "text/plain": [
       "<Figure size 648x648 with 12 Axes>"
      ]
     },
     "metadata": {},
     "output_type": "display_data"
    }
   ],
   "source": [
    "import seaborn as sns\n",
    "\n",
    "sns.set_style('whitegrid')\n",
    "sns.pairplot(finaldf,size=3)\n",
    "plt.show\n",
    "\n"
   ]
  },
  {
   "cell_type": "code",
   "execution_count": 35,
   "metadata": {},
   "outputs": [],
   "source": [
    "from sklearn.linear_model import LinearRegression\n",
    "reg=LinearRegression()"
   ]
  },
  {
   "cell_type": "code",
   "execution_count": 36,
   "metadata": {},
   "outputs": [
    {
     "data": {
      "text/plain": [
       "LinearRegression(copy_X=True, fit_intercept=True, n_jobs=None, normalize=False)"
      ]
     },
     "execution_count": 36,
     "metadata": {},
     "output_type": "execute_result"
    }
   ],
   "source": [
    "reg.fit(finaldf[['PCA1','PCA2']],finaldf.MPG)"
   ]
  },
  {
   "cell_type": "code",
   "execution_count": 37,
   "metadata": {},
   "outputs": [
    {
     "data": {
      "text/plain": [
       "array([-4.87618557, -0.38969056])"
      ]
     },
     "execution_count": 37,
     "metadata": {},
     "output_type": "execute_result"
    }
   ],
   "source": [
    "reg.coef_"
   ]
  },
  {
   "cell_type": "code",
   "execution_count": 38,
   "metadata": {},
   "outputs": [
    {
     "data": {
      "text/plain": [
       "34.42207572802469"
      ]
     },
     "execution_count": 38,
     "metadata": {},
     "output_type": "execute_result"
    }
   ],
   "source": [
    "reg.intercept_"
   ]
  },
  {
   "cell_type": "code",
   "execution_count": 51,
   "metadata": {},
   "outputs": [
    {
     "data": {
      "text/plain": [
       "0.8562123474648006"
      ]
     },
     "execution_count": 51,
     "metadata": {},
     "output_type": "execute_result"
    }
   ],
   "source": [
    "reg.score(finaldf[['PCA1','PCA2']],finaldf.MPG)"
   ]
  },
  {
   "cell_type": "code",
   "execution_count": 64,
   "metadata": {},
   "outputs": [
    {
     "data": {
      "text/plain": [
       "array([18.62854138])"
      ]
     },
     "execution_count": 64,
     "metadata": {},
     "output_type": "execute_result"
    }
   ],
   "source": [
    "reg.predict([[3.142744,1.203343]])"
   ]
  },
  {
   "cell_type": "code",
   "execution_count": null,
   "metadata": {},
   "outputs": [],
   "source": []
  }
 ],
 "metadata": {
  "kernelspec": {
   "display_name": "Python 3",
   "language": "python",
   "name": "python3"
  },
  "language_info": {
   "codemirror_mode": {
    "name": "ipython",
    "version": 3
   },
   "file_extension": ".py",
   "mimetype": "text/x-python",
   "name": "python",
   "nbconvert_exporter": "python",
   "pygments_lexer": "ipython3",
   "version": "3.7.4"
  }
 },
 "nbformat": 4,
 "nbformat_minor": 2
}
